{
 "cells": [
  {
   "cell_type": "code",
   "execution_count": 20,
   "metadata": {
    "collapsed": false
   },
   "outputs": [],
   "source": [
    "import numpy as np\n",
    "import pandas as pd\n",
    "\n",
    "#subjectA = pd.\n",
    "\n",
    "import scipy.io as sio\n",
    "raw_data = sio.loadmat('/home/larry/Data/BCI_Competition/IV/BCICIV_1calib_1000Hz_mat/BCICIV_calib_ds1a_1000Hz.mat')\n"
   ]
  },
  {
   "cell_type": "code",
   "execution_count": 88,
   "metadata": {
    "collapsed": false
   },
   "outputs": [],
   "source": [
    "subjectA_recordings = np.array(raw_data['cnt'])\n",
    "subjectA_cues_raw = raw_data['mrk'][0,0]\n",
    "sample_rate = raw_data['nfo'][0,0][0][0][0]\n",
    "cue_length_in_secs = 4\n",
    "cue_steps = cue_length_in_secs * sample_rate"
   ]
  },
  {
   "cell_type": "code",
   "execution_count": null,
   "metadata": {
    "collapsed": true
   },
   "outputs": [],
   "source": [
    "#np.shape(subjectA_cues)\n",
    "print(raw_data.keys())\n",
    "cues = raw_data[\"mrk\"]\n",
    "subjectA_cue_times = subjectA_cues_raw[0][0]\n",
    "subjectA_cue_values = subjectA_cues_raw[1][0]\n",
    "numCues = len(subjectA_cue_times)\n",
    "\n",
    "recording_len = np.shape(subjectA_recordings)[0]\n",
    "cue_vector = []\n",
    "cue_steps_remaining = 0\n",
    "cue_type = 0\n",
    "cue_number = 0\n",
    "for t in range(recording_len):\n",
    "    if cue_number < numCues:\n",
    "        if subjectA_cue_times[cue_number] == t:\n",
    "            #If new queue is reached\n",
    "            cue_type = subjectA_cue_values[cue_number]\n",
    "            cue_steps_remaining = cue_steps-1\n",
    "            cue_vector.append(cue_type)\n",
    "            cue_number += 1\n",
    "        elif cue_steps_remaining > 0:\n",
    "            #If last queue is still active\n",
    "            cue_steps_remaining -= 1\n",
    "            cue_vector.append(cue_type)\n",
    "        else:\n",
    "            cue_vector.append(0) #Append a value representing no active cue\n",
    "    else:\n",
    "            cue_vector.append(0) #Append a value representing no active cue"
   ]
  },
  {
   "cell_type": "code",
   "execution_count": 98,
   "metadata": {
    "collapsed": false
   },
   "outputs": [
    {
     "data": {
      "text/plain": [
       "1905940"
      ]
     },
     "execution_count": 98,
     "metadata": {},
     "output_type": "execute_result"
    }
   ],
   "source": [
    "len(cue_vector)"
   ]
  },
  {
   "cell_type": "code",
   "execution_count": null,
   "metadata": {
    "collapsed": true
   },
   "outputs": [],
   "source": [
    "from keras.models import Sequential\n",
    "from keras.layers import LSTM, Dense\n",
    "import numpy as np\n",
    "\n",
    "data_dim = np.shape(subjectA_recordings)[1]\n",
    "timesteps = 64\n",
    "num_classes = 3\n",
    "batch_size = 32\n",
    "\n",
    "# Expected input batch shape: (batch_size, timesteps, data_dim)\n",
    "# Note that we have to provide the full batch_input_shape since the network is stateful.\n",
    "# the sample of index i in batch k is the follow-up for the sample i in batch k-1.\n",
    "model = Sequential()\n",
    "model.add(LSTM(32, return_sequences=True, stateful=True,\n",
    "               batch_input_shape=(batch_size, timesteps, data_dim)))\n",
    "model.add(LSTM(32, return_sequences=True, stateful=True))\n",
    "model.add(LSTM(32, stateful=True))\n",
    "model.add(Dense(10, activation='softmax'))\n",
    "\n",
    "model.compile(loss='categorical_crossentropy',\n",
    "              optimizer='rmsprop',\n",
    "              metrics=['accuracy'])\n",
    "\n",
    "# Generate dummy training data\n",
    "x_train = np.random.random((batch_size * 10, timesteps, data_dim))\n",
    "y_train = np.random.random((batch_size * 10, num_classes))\n",
    "\n",
    "# Generate dummy validation data\n",
    "x_val = np.random.random((batch_size * 3, timesteps, data_dim))\n",
    "y_val = np.random.random((batch_size * 3, num_classes))\n",
    "\n",
    "model.fit(x_train, y_train,\n",
    "          batch_size=batch_size, epochs=5, shuffle=False,\n",
    "          validation_data=(x_val, y_val))\n",
    "Next  Previous\n"
   ]
  }
 ],
 "metadata": {
  "kernelspec": {
   "display_name": "Python 2",
   "language": "python",
   "name": "python2"
  },
  "language_info": {
   "codemirror_mode": {
    "name": "ipython",
    "version": 2
   },
   "file_extension": ".py",
   "mimetype": "text/x-python",
   "name": "python",
   "nbconvert_exporter": "python",
   "pygments_lexer": "ipython2",
   "version": "2.7.12"
  }
 },
 "nbformat": 4,
 "nbformat_minor": 2
}
